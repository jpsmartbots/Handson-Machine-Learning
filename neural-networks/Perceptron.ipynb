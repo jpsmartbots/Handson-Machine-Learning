{
 "cells": [
  {
   "cell_type": "markdown",
   "metadata": {},
   "source": [
    "### Simple Perceptron in Py\n",
    "The example here is to demonstrate how a simple perceptron functions. A 'perceptron' is defined as weighted sum of inputs followed by an activation function"
   ]
  },
  {
   "cell_type": "code",
   "execution_count": 148,
   "metadata": {},
   "outputs": [],
   "source": [
    "# Import the tensorflow and numpy\n",
    "import tensorflow as tf\n",
    "import numpy as np"
   ]
  },
  {
   "cell_type": "markdown",
   "metadata": {},
   "source": [
    "### Variable Initialisation"
   ]
  },
  {
   "cell_type": "code",
   "execution_count": 165,
   "metadata": {},
   "outputs": [],
   "source": [
    "# Dataset creation \n",
    "# Inputs - x1, x2\n",
    "# Weights - w1, w2\n",
    "# Bias - b\n",
    "input_dataset = tf.Variable([-2,2], dtype=\"float\")\n",
    "w_arr = tf.Variable(np.random.rand(2,), dtype=\"float\")\n",
    "b = tf.Variable(np.random.rand(1,), dtype=\"float\")"
   ]
  },
  {
   "cell_type": "markdown",
   "metadata": {},
   "source": [
    "### Function definition"
   ]
  },
  {
   "cell_type": "code",
   "execution_count": 159,
   "metadata": {},
   "outputs": [],
   "source": [
    "# Sigmoid function = 1/(1+e^z)\n",
    "# z = -(x1.w1+x2.w2 + b)\n",
    "def sigmoid(input_arr, w_arr, b):\n",
    "    z = -(np.matmul(input_arr,w_arr) + b)\n",
    "    return 1/(1+tf.exp(z))\n",
    "\n",
    "# Activation function defined as follows\n",
    "# a(x) = 1 if x>0.5\n",
    "# a(x) = 0 if x<=0.5\n",
    "def activation_function(x):\n",
    "    y = 0\n",
    "    if x>0.5 :\n",
    "        y = 1\n",
    "    return y"
   ]
  },
  {
   "cell_type": "markdown",
   "metadata": {},
   "source": [
    "### Tensorflow Session Initialisation"
   ]
  },
  {
   "cell_type": "code",
   "execution_count": 166,
   "metadata": {},
   "outputs": [
    {
     "name": "stdout",
     "output_type": "stream",
     "text": [
      "[0.6190956  0.51293176]\n",
      "[0.5044141]\n",
      "1\n"
     ]
    }
   ],
   "source": [
    "init = tf.global_variables_initializer()\n",
    "with tf.Session() as sess:\n",
    "    # Run the initializer\n",
    "    sess.run(init)\n",
    "    print(w_arr.eval())\n",
    "    s = sigmoid(input_dataset.eval(), w_arr.eval(), b).eval()\n",
    "    print(s)\n",
    "    a = activation_function(s)\n",
    "    print(a)"
   ]
  }
 ],
 "metadata": {
  "kernelspec": {
   "display_name": "Python 3",
   "language": "python",
   "name": "python3"
  },
  "language_info": {
   "codemirror_mode": {
    "name": "ipython",
    "version": 3
   },
   "file_extension": ".py",
   "mimetype": "text/x-python",
   "name": "python",
   "nbconvert_exporter": "python",
   "pygments_lexer": "ipython3",
   "version": "3.7.1"
  }
 },
 "nbformat": 4,
 "nbformat_minor": 2
}
