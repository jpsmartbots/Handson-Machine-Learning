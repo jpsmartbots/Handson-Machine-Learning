{
 "cells": [
  {
   "cell_type": "markdown",
   "metadata": {},
   "source": [
    "### Gradient Descent\n",
    "The following example has training data belonging to two classes - RED and GREEN. Gradient descent is implemented to obtain the model. Sigmoid function is used to predict "
   ]
  },
  {
   "cell_type": "markdown",
   "metadata": {},
   "source": [
    "#### Dataset Preperation"
   ]
  },
  {
   "cell_type": "code",
   "execution_count": 154,
   "metadata": {},
   "outputs": [
    {
     "data": {
      "image/png": "[encoded data removed]",
      "text/plain": [
       "<Figure size 432x288 with 1 Axes>"
      ]
     },
     "metadata": {
      "needs_background": "light"
     },
     "output_type": "display_data"
    }
   ],
   "source": [
    "import matplotlib.pyplot as plt\n",
    "import numpy as np\n",
    "\n",
    "# Training Dataset\n",
    "x_input = [[1,2.5], [1.5,5],[2,4],[3,2],[4,6],[5,2.5],[5,7],[6,5],[7,4]]\n",
    "output = [0,0,0,0,1,1,1,1,1]\n",
    "x,y = zip(*x_input)\n",
    "color_arr = np.empty(len(output), dtype='str')\n",
    "for i in range(len(output)):\n",
    "    if output[i] == 0:\n",
    "        color_arr[i] = 'red'\n",
    "    else:\n",
    "        color_arr[i] = 'green'\n",
    "plt.scatter(x,y, color=color_arr)\n",
    "plt.show()"
   ]
  },
  {
   "cell_type": "markdown",
   "metadata": {},
   "source": [
    "#### Function definition"
   ]
  },
  {
   "cell_type": "code",
   "execution_count": 155,
   "metadata": {},
   "outputs": [],
   "source": [
    "# Sigmoid function = 1/(1+e^z)\n",
    "# z = -(x1.w1+x2.w2 + b)\n",
    "def sigmoid(input_arr, w_arr, b):\n",
    "    z = -(np.matmul(input_arr,w_arr) + b)\n",
    "    return 1/(1+np.exp(z))\n",
    "\n",
    "# Activation function defined as follows\n",
    "# a(x) = 1 if x>0.5\n",
    "# a(x) = 0 if x<=0.5\n",
    "def activation_function(x):\n",
    "    y = 0\n",
    "    if x>0.5 :\n",
    "        y = 1\n",
    "    return y\n",
    "\n",
    "#Prediction function\n",
    "def predict(input_arr, w_arr, b):\n",
    "    x = sigmoid(input_arr, w_arr, b)\n",
    "    print('Sigmoid result: ', x)\n",
    "    x = activation_function(x)\n",
    "    if x is 0:\n",
    "        return 'red'\n",
    "    else:\n",
    "        return 'green'"
   ]
  },
  {
   "cell_type": "markdown",
   "metadata": {},
   "source": [
    "#### Training using Gradient Descent "
   ]
  },
  {
   "cell_type": "code",
   "execution_count": 156,
   "metadata": {},
   "outputs": [
    {
     "name": "stdout",
     "output_type": "stream",
     "text": [
      "Initial weights:  [0.27035706 0.22351304]\n",
      "g: [ 0.1   0.15  0.2   0.25  0.3   0.4   0.5   0.6   0.8   1.    1.5   2.\n",
      "  2.5   3.    4.    5.    6.    8.   10.   15.  ]\n",
      "actual:  0 , predicted:  0.696172987731071 , err:  -0.696172987731071 , srq err:  0.4846568288464059\n",
      "actual:  0 , predicted:  0.8062205365699899 , err:  -0.8062205365699899 , srq err:  1.1346483824336084\n",
      "actual:  0 , predicted:  0.7623840692440531 , err:  -0.7623840692440531 , srq err:  1.7158778514707296\n",
      "actual:  0 , predicted:  0.7268636317795545 , err:  -0.7268636317795545 , srq err:  2.2442085906744933\n",
      "actual:  1 , predicted:  0.8294287463765752 , err:  0.17057125362342485 , srq err:  2.27330314323716\n",
      "actual:  1 , predicted:  0.807345731359552 , err:  0.192654268640448 , srq err:  2.3104188104625463\n",
      "actual:  1 , predicted:  0.8913136158592847 , err:  0.1086863841407153 , srq err:  2.3222315405601295\n",
      "actual:  1 , predicted:  0.894159279250936 , err:  0.10584072074906403 , srq err:  2.333433798728811\n",
      "actual:  1 , predicted:  0.9082360193506004 , err:  0.09176398064939961 , srq err:  2.3418544268734345\n",
      "actual:  0 , predicted:  0.6524618140809648 , err:  -0.6524618140809648 , srq err:  0.4257064188338235\n",
      "actual:  0 , predicted:  0.739612474598188 , err:  -0.739612474598188 , srq err:  0.9727330314150788\n",
      "actual:  0 , predicted:  0.7024440583360092 , err:  -0.7024440583360092 , srq err:  1.4661606865066417\n",
      "actual:  0 , predicted:  0.6886309139641352 , err:  -0.6886309139641352 , srq err:  1.9403732221737218\n",
      "actual:  1 , predicted:  0.7557807986161625 , err:  0.24421920138383746 , srq err:  2.0000162404982813\n",
      "actual:  1 , predicted:  0.7705579393830783 , err:  0.22944206061692174 , srq err:  2.0526598996784204\n",
      "actual:  1 , predicted:  0.8365013479838171 , err:  0.16349865201618285 , srq err:  2.0793917088895295\n",
      "actual:  1 , predicted:  0.8583068710691203 , err:  0.1416931289308797 , srq err:  2.0994686516757524\n",
      "actual:  1 , predicted:  0.8835093970496329 , err:  0.11649060295036706 , srq err:  2.1130387122514924\n",
      "actual:  0 , predicted:  0.6212042493684928 , err:  -0.6212042493684928 , srq err:  0.38589471943347264\n",
      "actual:  0 , predicted:  0.6859016941648897 , err:  -0.6859016941648897 , srq err:  0.8563558534917385\n",
      "actual:  0 , predicted:  0.6584110922405786 , err:  -0.6584110922405786 , srq err:  1.2898610198771703\n",
      "actual:  0 , predicted:  0.6655768022968258 , err:  -0.6655768022968258 , srq err:  1.7328534996328382\n",
      "actual:  1 , predicted:  0.6984776568666982 , err:  0.30152234313330184 , srq err:  1.8237692230414349\n",
      "actual:  1 , predicted:  0.7500655008572802 , err:  0.2499344991427198 , srq err:  1.886236476903157\n",
      "actual:  1 , predicted:  0.7920909264005191 , err:  0.20790907359948085 , srq err:  1.9294626597881512\n",
      "actual:  1 , predicted:  0.8346513379175634 , err:  0.1653486620824366 , srq err:  1.956802839840603\n",
      "actual:  1 , predicted:  0.8698038879188281 , err:  0.13019611208117188 , srq err:  1.9737538674416562\n",
      "actual:  0 , predicted:  0.6001890857432335 , err:  -0.6001890857432335 , srq err:  0.3602269386452985\n",
      "actual:  0 , predicted:  0.6467937017096119 , err:  -0.6467937017096119 , srq err:  0.778569031216521\n",
      "actual:  0 , predicted:  0.6290219361977057 , err:  -0.6290219361977057 , srq err:  1.1742376274344317\n",
      "actual:  0 , predicted:  0.6544276274285412 , err:  -0.6544276274285412 , srq err:  1.6025131469761813\n",
      "actual:  1 , predicted:  0.660380505743097 , err:  0.33961949425690297 , srq err:  1.7178545478554959\n",
      "actual:  1 , predicted:  0.7426113973227297 , err:  0.25738860267727026 , srq err:  1.7841034406436536\n",
      "actual:  1 , predicted:  0.7617213966172427 , err:  0.2382786033827573 , srq err:  1.8408801334736908\n",
      "actual:  1 , predicted:  0.8224062979506497 , err:  0.17759370204935032 , srq err:  1.8724196564812843\n",
      "actual:  1 , predicted:  0.8651464217360475 , err:  0.1348535782639525 , srq err:  1.8906051440518763\n",
      "actual:  0 , predicted:  0.5859451929690832 , err:  -0.5859451929690832 , srq err:  0.34333176916357616\n",
      "actual:  0 , predicted:  0.6186084004533572 , err:  -0.6186084004533572 , srq err:  0.7260081222750373\n",
      "actual:  0 , predicted:  0.6096862250700842 , err:  -0.6096862250700842 , srq err:  1.0977254153152467\n",
      "actual:  0 , predicted:  0.6507810984979814 , err:  -0.6507810984979814 , srq err:  1.521241453477486\n",
      "actual:  1 , predicted:  0.6364803082270746 , err:  0.3635196917729254 , srq err:  1.6533880197841688\n",
      "actual:  1 , predicted:  0.7432534258220612 , err:  0.2567465741779388 , srq err:  1.7193068231362767\n",
      "actual:  1 , predicted:  0.7423475762957686 , err:  0.25765242370423136 , srq err:  1.7856915945769414\n",
      "actual:  1 , predicted:  0.8178017469653325 , err:  0.18219825303466752 , srq err:  1.818887797985826\n",
      "actual:  1 , predicted:  0.8660290559221807 , err:  0.1339709440778193 , srq err:  1.836836011842928\n",
      "actual:  0 , predicted:  0.57574328285408 , err:  -0.57574328285408 , srq err:  0.33148032775159325\n",
      "actual:  0 , predicted:  0.5973431576935994 , err:  -0.5973431576935994 , srq err:  0.6882991757949536\n",
      "actual:  0 , predicted:  0.5964143751642538 , err:  -0.5964143751642538 , srq err:  1.044009282697521\n",
      "actual:  0 , predicted:  0.6513278251569993 , err:  -0.6513278251569993 , srq err:  1.4682372185212675\n",
      "actual:  1 , predicted:  0.6213311142126086 , err:  0.37866888578739144 , srq err:  1.6116273435847321\n",
      "actual:  1 , predicted:  0.748221674635105 , err:  0.251778325364895 , srq err:  1.675019668708283\n",
      "actual:  1 , predicted:  0.7299845758680945 , err:  0.2700154241319055 , srq err:  1.7479279979774158\n",
      "actual:  1 , predicted:  0.8175582048600751 , err:  0.18244179513992487 , srq err:  1.7812130065912941\n",
      "actual:  1 , predicted:  0.8697707063068463 , err:  0.13022929369315372 , srq err:  1.798172675527112\n",
      "actual:  0 , predicted:  0.5678768797794799 , err:  -0.5678768797794799 , srq err:  0.32248415058807783\n",
      "actual:  0 , predicted:  0.5802241485334603 , err:  -0.5802241485334603 , srq err:  0.6591442131294568\n",
      "actual:  0 , predicted:  0.5866338739908831 , err:  -0.5866338739908831 , srq err:  1.003283515243008\n",
      "actual:  0 , predicted:  0.6540541283041971 , err:  -0.6540541283041971 , srq err:  1.431070317994771\n",
      "actual:  1 , predicted:  0.6112112322739834 , err:  0.38878876772601656 , srq err:  1.5822270239046854\n",
      "actual:  1 , predicted:  0.755236030650288 , err:  0.244763969349712 , srq err:  1.6421364245965122\n",
      "actual:  1 , predicted:  0.721737572877487 , err:  0.27826242712251303 , srq err:  1.719566402944624\n",
      "actual:  1 , predicted:  0.8195900233792353 , err:  0.18040997662076474 , srq err:  1.752114162608929\n",
      "actual:  1 , predicted:  0.8747780170179887 , err:  0.12522198298201126 , srq err:  1.767794707630876\n",
      "actual:  0 , predicted:  0.5613763247833098 , err:  -0.5613763247833098 , srq err:  0.3151433780272161\n",
      "actual:  0 , predicted:  0.5656037437126872 , err:  -0.5656037437126872 , srq err:  0.6350509729290232\n",
      "actual:  0 , predicted:  0.578866387441956 , err:  -0.578866387441956 , srq err:  0.9701372674391239\n",
      "actual:  0 , predicted:  0.6578447052859572 , err:  -0.6578447052859572 , srq err:  1.4028969237118918\n",
      "actual:  1 , predicted:  0.6039389335019635 , err:  0.3960610664980365 , srq err:  1.559761292107454\n",
      "actual:  1 , predicted:  0.7630571471847613 , err:  0.23694285281523875 , srq err:  1.6159032076076778\n",
      "actual:  1 , predicted:  0.7158545191776995 , err:  0.2841454808223005 , srq err:  1.6966418618794141\n",
      "actual:  1 , predicted:  0.8227271650044903 , err:  0.17727283499550972 , srq err:  1.7280675199067594\n",
      "actual:  1 , predicted:  0.880207360552177 , err:  0.11979263944782303 , srq err:  1.7424177963726355\n",
      "actual:  0 , predicted:  0.5557113292882485 , err:  -0.5557113292882485 , srq err:  0.3088150814993122\n",
      "actual:  0 , predicted:  0.5525613731530213 , err:  -0.5525613731530213 , srq err:  0.6141391526000647\n",
      "actual:  0 , predicted:  0.5723006612786502 , err:  -0.5723006612786502 , srq err:  0.941667199500045\n",
      "actual:  0 , predicted:  0.6621087337619697 , err:  -0.6621087337619697 , srq err:  1.3800551748239238\n",
      "actual:  1 , predicted:  0.5983095708106269 , err:  0.40169042918937314 , srq err:  1.5414103757262665\n",
      "actual:  1 , predicted:  0.7710497253352053 , err:  0.22895027466479467 , srq err:  1.5938286039953513\n",
      "actual:  1 , predicted:  0.7113495448382886 , err:  0.2886504551617114 , srq err:  1.6771476892604145\n",
      "actual:  1 , predicted:  0.8263501798632641 , err:  0.1736498201367359 , srq err:  1.7073019492939352\n",
      "actual:  1 , predicted:  0.8856416969551392 , err:  0.11435830304486083 , srq err:  1.7203797707692354\n",
      "actual:  0 , predicted:  0.5505943956190513 , err:  -0.5505943956190513 , srq err:  0.3031541884871084\n",
      "actual:  0 , predicted:  0.5405927855666016 , err:  -0.5405927855666016 , srq err:  0.595394748293766\n",
      "actual:  0 , predicted:  0.5664973740336106 , err:  -0.5664973740336106 , srq err:  0.9163140230807425\n",
      "actual:  0 , predicted:  0.6665403080795965 , err:  -0.6665403080795965 , srq err:  1.360590005375586\n",
      "actual:  1 , predicted:  0.5936713411915788 , err:  0.4063286588084212 , srq err:  1.5256929843446363\n",
      "actual:  1 , predicted:  0.778902295440688 , err:  0.221097704559312 , srq err:  1.574577179306033\n",
      "actual:  1 , predicted:  0.7076826753782713 , err:  0.29231732462172866 , srq err:  1.6600265975800381\n",
      "actual:  1 , predicted:  0.8301406961615175 , err:  0.16985930383848247 , srq err:  1.688878780680532\n",
      "actual:  1 , predicted:  0.8908874940919829 , err:  0.10911250590801713 , srq err:  1.7007843196260592\n",
      "actual:  0 , predicted:  0.5458679352744961 , err:  -0.5458679352744961 , srq err:  0.2979718027608414\n",
      "actual:  0 , predicted:  0.5294204026159445 , err:  -0.5294204026159445 , srq err:  0.5782577654668701\n",
      "actual:  0 , predicted:  0.5612169995523832 , err:  -0.5612169995523832 , srq err:  0.8932222860534499\n",
      "actual:  0 , predicted:  0.6709834199790011 , err:  -0.6709834199790011 , srq err:  1.3434410359401665\n",
      "actual:  1 , predicted:  0.5896711715437012 , err:  0.4103288284562988 , srq err:  1.5118107834024852\n",
      "actual:  1 , predicted:  0.7864705339011056 , err:  0.21352946609889445 , srq err:  1.557405616294964\n",
      "actual:  1 , predicted:  0.7045588895507043 , err:  0.29544111044929566 , srq err:  1.644691066038477\n",
      "actual:  1 , predicted:  0.8339382523748222 , err:  0.16606174762517778 , srq err:  1.6722675700628054\n",
      "actual:  1 , predicted:  0.8958635574696667 , err:  0.10413644253033327 , srq err:  1.6831119687256788\n",
      "actual:  0 , predicted:  0.5414430602502225 , err:  -0.5414430602502225 , srq err:  0.29316058749312607\n",
      "actual:  0 , predicted:  0.5188873751181935 , err:  -0.5188873751181935 , srq err:  0.5624046955501749\n",
      "actual:  0 , predicted:  0.5563258390171483 , err:  -0.5563258390171483 , srq err:  0.8719031347083088\n",
      "actual:  0 , predicted:  0.6753598447871001 , err:  -0.6753598447871001 , srq err:  1.3280140546591648\n",
      "actual:  1 , predicted:  0.5861145502995276 , err:  0.41388544970047236 , srq err:  1.499315220132927\n",
      "actual:  1 , predicted:  0.7936946467182808 , err:  0.20630535328171917 , srq err:  1.541877118925622\n",
      "actual:  1 , predicted:  0.7018145658906987 , err:  0.2981854341093013 , srq err:  1.6307916720405744\n",
      "actual:  1 , predicted:  0.8376637112646698 , err:  0.16233628873533024 , srq err:  1.657144742680935\n",
      "actual:  1 , predicted:  0.9005436616100061 , err:  0.0994563383899939 , srq err:  1.6670363059268798\n",
      "actual:  0 , predicted:  0.5372672070680358 , err:  -0.5372672070680358 , srq err:  0.2886560517906876\n",
      "actual:  0 , predicted:  0.508900632206471 , err:  -0.508900632206471 , srq err:  0.5476359052508335\n",
      "actual:  0 , predicted:  0.5517461534211263 , err:  -0.5517461534211263 , srq err:  0.8520597230658425\n",
      "actual:  0 , predicted:  0.6796315213772203 , err:  -0.6796315213772203 , srq err:  1.3139587279153575\n",
      "actual:  1 , predicted:  0.5828908093387238 , err:  0.41710919066127616 , srq err:  1.4879388048494624\n",
      "actual:  1 , predicted:  0.8005569505586521 , err:  0.19944304944134794 , srq err:  1.5277163348199263\n",
      "actual:  1 , predicted:  0.6993560669413814 , err:  0.3006439330586186 , srq err:  1.6181031093048814\n",
      "actual:  1 , predicted:  0.8412795220718114 , err:  0.15872047792818855 , srq err:  1.643295299418634\n",
      "actual:  1 , predicted:  0.9049277478093767 , err:  0.09507225219062332 , srq err:  1.6523340325552316\n",
      "actual:  0 , predicted:  0.5333071820915669 , err:  -0.5333071820915669 , srq err:  0.2844165504704477\n",
      "actual:  0 , predicted:  0.4994008167896616 , err:  -0.4994008167896616 , srq err:  0.5338177262806288\n",
      "actual:  0 , predicted:  0.5474300020022048 , err:  -0.5474300020022048 , srq err:  0.8334973333727629\n",
      "actual:  0 , predicted:  0.6837811112859702 , err:  -0.6837811112859702 , srq err:  1.3010539415242393\n",
      "actual:  1 , predicted:  0.5799338460782756 , err:  0.4200661539217244 , srq err:  1.4775095151948292\n",
      "actual:  1 , predicted:  0.8070603488451947 , err:  0.19293965115480527 , srq err:  1.5147352241825671\n",
      "actual:  1 , predicted:  0.697127144117262 , err:  0.30287285588273805 , srq err:  1.606467191013133\n",
      "actual:  1 , predicted:  0.8447693583270461 , err:  0.15523064167295386 , srq err:  1.6305637431273299\n",
      "actual:  1 , predicted:  0.909027663681755 , err:  0.09097233631824497 , srq err:  1.6388397091025297\n",
      "actual:  0 , predicted:  0.5295403038403398 , err:  -0.5295403038403398 , srq err:  0.2804129333913194\n",
      "actual:  0 , predicted:  0.49034655708749814 , err:  -0.49034655708749814 , srq err:  0.5208526794388825\n",
      "actual:  0 , predicted:  0.5433455597308621 , err:  -0.5433455597308621 , srq err:  0.8160770767181262\n",
      "actual:  0 , predicted:  0.6878019752700181 , err:  -0.6878019752700181 , srq err:  1.2891486339034648\n",
      "actual:  1 , predicted:  0.5772015608689134 , err:  0.4227984391310866 , srq err:  1.467907154035148\n",
      "actual:  1 , predicted:  0.8132174638892814 , err:  0.1867825361107186 , srq err:  1.5027948698311\n",
      "actual:  1 , predicted:  0.6950917590460384 , err:  0.30490824095396163 , srq err:  1.595763905232739\n",
      "actual:  1 , predicted:  0.8481277200244841 , err:  0.1518722799755159 , srq err:  1.6188290946577004\n",
      "actual:  1 , predicted:  0.9128601683822238 , err:  0.08713983161777616 , srq err:  1.6264224449120748\n",
      "actual:  0 , predicted:  0.5259497647359227 , err:  -0.5259497647359227 , srq err:  0.27662315502577245\n",
      "actual:  0 , predicted:  0.4817062774645927 , err:  -0.4817062774645927 , srq err:  0.5086640927745676\n",
      "actual:  0 , predicted:  0.5394699476157178 , err:  -0.5394699476157178 , srq err:  0.7996919171550729\n",
      "actual:  0 , predicted:  0.6916929966216437 , err:  -0.6916929966216437 , srq err:  1.2781311187305022\n",
      "actual:  1 , predicted:  0.5746650761765242 , err:  0.4253349238234758 , srq err:  1.4590409161544242\n",
      "actual:  1 , predicted:  0.8190451627616351 , err:  0.18095483723836492 , srq err:  1.4917855692743873\n",
      "actual:  1 , predicted:  0.6932250338114356 , err:  0.30677496618856437 , srq err:  1.585896449154382\n",
      "actual:  1 , predicted:  0.8513546158354925 , err:  0.14864538416450745 , srq err:  1.6079918993877962\n",
      "actual:  1 , predicted:  0.9164435400381661 , err:  0.08355645996183392 , srq err:  1.6149735813891497\n",
      "actual:  0 , predicted:  0.5225221870468902 , err:  -0.5225221870468902 , srq err:  0.27302943595626533\n",
      "actual:  0 , predicted:  0.47345394576140376 , err:  -0.47345394576140376 , srq err:  0.4971880747133076\n",
      "actual:  0 , predicted:  0.5357854534168905 , err:  -0.5357854534168905 , srq err:  0.7842541268064507\n",
      "actual:  0 , predicted:  0.6954558963191965 , err:  -0.6954558963191965 , srq err:  1.2679130305315875\n",
      "actual:  1 , predicted:  0.5723030520518257 , err:  0.42769694794817426 , srq err:  1.4508377098157708\n",
      "actual:  1 , predicted:  0.8245618092001802 , err:  0.17543819079981982 , srq err:  1.4816162686068848\n",
      "actual:  1 , predicted:  0.6915084637572486 , err:  0.3084915362427514 , srq err:  1.5767832965402975\n",
      "actual:  1 , predicted:  0.8544528306913939 , err:  0.14554716930860612 , srq err:  1.5979672750340455\n",
      "actual:  1 , predicted:  0.9197959640663249 , err:  0.08020403593367509 , srq err:  1.6043999624140957\n",
      "actual:  0 , predicted:  0.5192463208738486 , err:  -0.5192463208738486 , srq err:  0.26961674174102773\n",
      "actual:  0 , predicted:  0.4655668668645565 , err:  -0.4655668668645565 , srq err:  0.48636924926310743\n",
      "actual:  0 , predicted:  0.5322775186364485 , err:  -0.5322775186364485 , srq err:  0.7696886061088821\n",
      "actual:  0 , predicted:  0.6990938319656895 , err:  -0.6990938319656895 , srq err:  1.258420792001354\n",
      "actual:  1 , predicted:  0.5700986584485463 , err:  0.42990134155145365 , srq err:  1.4432359554690934\n",
      "actual:  1 , predicted:  0.8297858956903316 , err:  0.17021410430966843 , srq err:  1.4722087967750361\n",
      "actual:  1 , predicted:  0.6899273633203132 , err:  0.31007263667968676 , srq err:  1.5683538367925292\n",
      "actual:  1 , predicted:  0.857426512040438 , err:  0.14257348795956204 , srq err:  1.5886810362614845\n",
      "actual:  1 , predicted:  0.9229348007149076 , err:  0.07706519928509237 , srq err:  1.5946200812023354\n",
      "actual:  0 , predicted:  0.5161123382343922 , err:  -0.5161123382343922 , srq err:  0.2663719456777716\n",
      "actual:  0 , predicted:  0.4580245359100729 , err:  -0.4580245359100729 , srq err:  0.4761584211734093\n",
      "actual:  0 , predicted:  0.5289336483335333 , err:  -0.5289336483335333 , srq err:  0.7559292255128311\n",
      "actual:  0 , predicted:  0.7026106608956704 , err:  -0.7026106608956704 , srq err:  1.2495909663170819\n",
      "actual:  1 , predicted:  0.5680379369318079 , err:  0.43196206306819207 , srq err:  1.4361821902472107\n",
      "actual:  1 , predicted:  0.8347353767445211 , err:  0.16526462325547886 , srq err:  1.4634945859469861\n",
      "actual:  1 , predicted:  0.6884694837701553 , err:  0.31153051622984473 , srq err:  1.5605458484894197\n",
      "actual:  1 , predicted:  0.8602804319985421 , err:  0.1397195680014579 , srq err:  1.5800674061719338\n",
      "actual:  1 , predicted:  0.9258762854445947 , err:  0.07412371455540534 , srq err:  1.585561731231425\n",
      "actual:  0 , predicted:  0.5131114397304862 , err:  -0.5131114397304862 , srq err:  0.2632833495822924\n",
      "actual:  0 , predicted:  0.45080803775702566 , err:  -0.45080803775702566 , srq err:  0.46651123648863224\n",
      "actual:  0 , predicted:  0.525742805403546 , err:  -0.525742805403546 , srq err:  0.7429167339222231\n",
      "actual:  0 , predicted:  0.7060105489340465 , err:  -0.7060105489340465 , srq err:  1.2413676291283768\n",
      "actual:  1 , predicted:  0.566108892766737 , err:  0.43389110723326296 , srq err:  1.4296291220644837\n",
      "actual:  1 , predicted:  0.8394273598718365 , err:  0.16057264012816352 , srq err:  1.4554126948222124\n",
      "actual:  1 , predicted:  0.687124248375769 , err:  0.312875751624231 , srq err:  1.5533039307766399\n",
      "actual:  1 , predicted:  0.8630195984363177 , err:  0.1369804015636823 , srq err:  1.5720675611891874\n",
      "actual:  1 , predicted:  0.928635440697857 , err:  0.07136455930214303 , srq err:  1.5771604615135766\n",
      "gradient array:  [2.34185443 2.11303871 1.97375387 1.89060514 1.83683601 1.79817268\n",
      " 1.76779471 1.7424178  1.72037977 1.70078432 1.68311197 1.66703631\n",
      " 1.65233403 1.63883971 1.62642244 1.61497358 1.60439996 1.59462008\n",
      " 1.58556173 1.57716046]\n"
     ]
    },
    {
     "data": {
      "image/png": "[encoded data removed]",
      "text/plain": [
       "<Figure size 432x288 with 1 Axes>"
      ]
     },
     "metadata": {
      "needs_background": "light"
     },
     "output_type": "display_data"
    },
    {
     "name": "stdout",
     "output_type": "stream",
     "text": [
      "final weights: [ 0.47162679 -0.17227143]\n"
     ]
    }
   ],
   "source": [
    "learning_rate = 0.01\n",
    "epochs = 20\n",
    "w = np.random.random_sample((2,))\n",
    "print('Initial weights: ',w)\n",
    "def train_weights(input_, output_, wts, epochs):\n",
    "    gradient_array = np.empty([epochs,])\n",
    "    right_wts = np.empty([2,])\n",
    "    print('g:',gradient_array)\n",
    "    prev_err_sqr = 9999\n",
    "    for i in range(epochs):\n",
    "        err_sqr = 0\n",
    "        for j in range(len(input_)):\n",
    "            curr_input = input_[j]\n",
    "            predicted_value = sigmoid(curr_input, wts, 0)\n",
    "            err = output_[j] - predicted_value\n",
    "            err_sqr = err_sqr + err ** 2\n",
    "            print('actual: ', output_[j],', predicted: ', predicted_value, ', err: ', err, ', srq err: ', err_sqr)\n",
    "            wts[0] = wts[0] + learning_rate*err*curr_input[0]\n",
    "            wts[1] = wts[1] + learning_rate*err*curr_input[1]\n",
    "        gradient_array[i] = err_sqr\n",
    "        if err_sqr < prev_err_sqr:\n",
    "            right_wts = wts\n",
    "            prev_err_sqr = err_sqr\n",
    "    print('gradient array: ', gradient_array)    \n",
    "    plt.scatter(np.arange(epochs),gradient_array)\n",
    "    plt.show()\n",
    "    return right_wts\n",
    "\n",
    "w_trained = train_weights(x_input, output, w, epochs)\n",
    "print('final weights:', w_trained)"
   ]
  },
  {
   "cell_type": "markdown",
   "metadata": {},
   "source": [
    "#### Prediction"
   ]
  },
  {
   "cell_type": "code",
   "execution_count": 157,
   "metadata": {},
   "outputs": [
    {
     "name": "stdout",
     "output_type": "stream",
     "text": [
      "Sigmoid result:  0.23853784569949876\n",
      "Prediction: Blue is red\n",
      "Sigmoid result:  0.9393110911913737\n",
      "Prediction: Yellow is green\n"
     ]
    },
    {
     "data": {
      "image/png": "[encoded data removed]",
      "text/plain": [
       "<Figure size 432x288 with 1 Axes>"
      ]
     },
     "metadata": {
      "needs_background": "light"
     },
     "output_type": "display_data"
    }
   ],
   "source": [
    "# Prediction\n",
    "input_to_predict1 = [-1,4]\n",
    "peridiction = predict(input_to_predict1, w_trained, 0)\n",
    "print('Prediction: Blue is '+ peridiction)\n",
    "\n",
    "input_to_predict2 = [8,6]\n",
    "peridiction = predict(input_to_predict2, w_trained, 0)\n",
    "print('Prediction: Yellow is '+ peridiction)\n",
    "\n",
    "x_input.append(input_to_predict1)\n",
    "x_input.append(input_to_predict2)\n",
    "color_arr = np.append(color_arr,'blue')\n",
    "color_arr = np.append(color_arr,'yellow')\n",
    "\n",
    "x,y = zip(*x_input)\n",
    "plt.scatter(x,y, color=color_arr)\n",
    "plt.show()"
   ]
  }
 ],
 "metadata": {
  "kernelspec": {
   "display_name": "Python 3",
   "language": "python",
   "name": "python3"
  },
  "language_info": {
   "codemirror_mode": {
    "name": "ipython",
    "version": 3
   },
   "file_extension": ".py",
   "mimetype": "text/x-python",
   "name": "python",
   "nbconvert_exporter": "python",
   "pygments_lexer": "ipython3",
   "version": "3.7.1"
  }
 },
 "nbformat": 4,
 "nbformat_minor": 2
}
