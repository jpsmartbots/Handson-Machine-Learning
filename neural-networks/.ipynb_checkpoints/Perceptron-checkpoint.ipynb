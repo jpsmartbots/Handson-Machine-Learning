{
 "cells": [
  {
   "cell_type": "code",
   "execution_count": 99,
   "metadata": {},
   "outputs": [],
   "source": [
    "# Import the tensorflow and numpy\n",
    "import tensorflow as tf\n",
    "import numpy as np"
   ]
  },
  {
   "cell_type": "code",
   "execution_count": 144,
   "metadata": {},
   "outputs": [],
   "source": [
    "# Dataset creation \n",
    "# Inputs - x1, x2\n",
    "# Weights - w1, w2\n",
    "# Bias - b\n",
    "input_dataset = tf.Variable([-2,2], dtype=\"float\")\n",
    "w_arr = tf.Variable(np.random.rand(2,), dtype=\"float\")\n",
    "b = tf.Variable(np.random.rand(1,), dtype=\"float\")"
   ]
  },
  {
   "cell_type": "code",
   "execution_count": 138,
   "metadata": {},
   "outputs": [],
   "source": [
    "# Perceptron defined as sigmoid function = 1/(1+e^z)\n",
    "# z = -(x1.w1+x2.w2 + b)\n",
    "def perceptron(input_arr, w_arr, b):\n",
    "    z = -(np.matmul(input_arr,w_arr) + b)\n",
    "    return 1/(1+tf.exp(z))\n",
    "\n",
    "# Activation function defined as follows\n",
    "# a(x) = 1 if x>0.5\n",
    "# a(x) = 0 if x<=0.5\n",
    "def activation_function(x):\n",
    "    y=np.empty(len(x), dtype=\"float\")\n",
    "    for i in range(len(x)):\n",
    "        if(x[i] > 0.5):\n",
    "            y[i] = 1\n",
    "        else:\n",
    "            y[i] = 0;\n",
    "    return y"
   ]
  },
  {
   "cell_type": "code",
   "execution_count": 145,
   "metadata": {},
   "outputs": [
    {
     "name": "stdout",
     "output_type": "stream",
     "text": [
      "[0.7377676]\n",
      "[1.]\n"
     ]
    }
   ],
   "source": [
    "init = tf.global_variables_initializer()\n",
    "with tf.Session() as sess:\n",
    "    # Run the initializer\n",
    "    sess.run(init)\n",
    "    p = perceptron(input_dataset.eval(), w_arr.eval(), b).eval()\n",
    "    a = activation_function([p])\n",
    "    print(p)\n",
    "    print(a)"
   ]
  }
 ],
 "metadata": {
  "kernelspec": {
   "display_name": "Python 3",
   "language": "python",
   "name": "python3"
  },
  "language_info": {
   "codemirror_mode": {
    "name": "ipython",
    "version": 3
   },
   "file_extension": ".py",
   "mimetype": "text/x-python",
   "name": "python",
   "nbconvert_exporter": "python",
   "pygments_lexer": "ipython3",
   "version": "3.7.1"
  }
 },
 "nbformat": 4,
 "nbformat_minor": 2
}
