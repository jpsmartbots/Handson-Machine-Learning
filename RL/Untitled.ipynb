{
 "cells": [
  {
   "cell_type": "code",
   "execution_count": 5,
   "metadata": {},
   "outputs": [
    {
     "name": "stdout",
     "output_type": "stream",
     "text": [
      "Utility of state (1,1): 0.7056\n"
     ]
    }
   ],
   "source": [
    "import numpy as np\n",
    "\n",
    "def return_state_utility(v, T, u, reward, gamma):\n",
    "    \"\"\"Return the state utility.\n",
    "\n",
    "    @param v the state vector\n",
    "    @param T transition matrix\n",
    "    @param u utility vector\n",
    "    @param reward for that state\n",
    "    @param gamma discount factor\n",
    "    @return the utility of the state\n",
    "    \"\"\"\n",
    "    action_array = np.zeros(4)\n",
    "    for action in range(0, 4):\n",
    "        action_array[action] = np.sum(np.multiply(u, np.dot(v, T[:,:,action])))\n",
    "    return reward + gamma * np.max(action_array)\n",
    "\n",
    "def main():\n",
    "    #Starting state vector\n",
    "    #The agent starts from (1, 1)\n",
    "    v = np.array([[0.0, 0.0, 0.0, 0.0, \n",
    "                   0.0, 0.0, 0.0, 0.0, \n",
    "                   1.0, 0.0, 0.0, 0.0]])\n",
    "\n",
    "    #Transition matrix loaded from file\n",
    "    #(It is too big to write here)\n",
    "    T = np.load(\"T.npy\")\n",
    "\n",
    "    #Utility vector\n",
    "    u = np.array([[0.812, 0.868, 0.918,   1.0,\n",
    "                   0.762,   0.0, 0.660,  -1.0,\n",
    "                   0.705, 0.655, 0.611, 0.388]])\n",
    "\n",
    "    #Defining the reward for state (1,1)\n",
    "    reward = -0.04\n",
    "    #Assuming that the discount factor is equal to 1.0\n",
    "    gamma = 1.0\n",
    "\n",
    "    #Use the Bellman equation to find the utility of state (1,1)\n",
    "    utility_11 = return_state_utility(v, T, u, reward, gamma)\n",
    "    print(\"Utility of state (1,1): \" + str(utility_11))\n",
    "\n",
    "if __name__ == \"__main__\":\n",
    "    main()"
   ]
  }
 ],
 "metadata": {
  "kernelspec": {
   "display_name": "Python 3",
   "language": "python",
   "name": "python3"
  },
  "language_info": {
   "codemirror_mode": {
    "name": "ipython",
    "version": 3
   },
   "file_extension": ".py",
   "mimetype": "text/x-python",
   "name": "python",
   "nbconvert_exporter": "python",
   "pygments_lexer": "ipython3",
   "version": "3.7.1"
  }
 },
 "nbformat": 4,
 "nbformat_minor": 2
}
